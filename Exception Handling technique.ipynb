{
 "cells": [
  {
   "cell_type": "markdown",
   "metadata": {},
   "source": [
    "### Exception Handling\n",
    "\n",
    "    -Exception handling in Python can be done using 'try', 'except' and 'finally' blocks.\n",
    "    \n",
    "    -Define the code from which you are expecting the a runtime error,under 'try' block.\n",
    "    \n",
    "    -Define the code,which you to exceute ,when exception occured under 'except' block.\n",
    "    \n",
    "    -define the code,which you want to run,when exception is occured or doesn't occur under 'finally' block."
   ]
  },
  {
   "cell_type": "code",
   "execution_count": null,
   "metadata": {},
   "outputs": [],
   "source": [
    "try:\n",
    "    #some logic\n",
    "    \n",
    "except:\n",
    "    #some logic\n",
    "    \n",
    "finally:\n",
    "    #some logic"
   ]
  },
  {
   "cell_type": "markdown",
   "metadata": {},
   "source": [
    "    -In Python we can also add 'else' block and it executes ,when exception doesn't occur in 'try' block."
   ]
  },
  {
   "cell_type": "code",
   "execution_count": 2,
   "metadata": {},
   "outputs": [
    {
     "name": "stdout",
     "output_type": "stream",
     "text": [
      "enter filenameException Handling.ipynb\n",
      "file is opened\n"
     ]
    },
    {
     "ename": "ZeroDivisionError",
     "evalue": "division by zero",
     "output_type": "error",
     "traceback": [
      "\u001b[1;31m---------------------------------------------------------------------------\u001b[0m",
      "\u001b[1;31mZeroDivisionError\u001b[0m                         Traceback (most recent call last)",
      "\u001b[1;32m<ipython-input-2-d7dd9a0a97b1>\u001b[0m in \u001b[0;36m<module>\u001b[1;34m()\u001b[0m\n\u001b[0;32m      5\u001b[0m \u001b[0mprint\u001b[0m\u001b[1;33m(\u001b[0m\u001b[1;34m'file is opened'\u001b[0m\u001b[1;33m)\u001b[0m\u001b[1;33m\u001b[0m\u001b[0m\n\u001b[0;32m      6\u001b[0m \u001b[1;33m\u001b[0m\u001b[0m\n\u001b[1;32m----> 7\u001b[1;33m \u001b[0mx\u001b[0m\u001b[1;33m=\u001b[0m\u001b[1;36m10\u001b[0m\u001b[1;33m/\u001b[0m\u001b[1;36m0\u001b[0m\u001b[1;33m\u001b[0m\u001b[0m\n\u001b[0m\u001b[0;32m      8\u001b[0m \u001b[0mprint\u001b[0m\u001b[1;33m(\u001b[0m\u001b[0mx\u001b[0m\u001b[1;33m)\u001b[0m\u001b[1;33m\u001b[0m\u001b[0m\n\u001b[0;32m      9\u001b[0m \u001b[1;33m\u001b[0m\u001b[0m\n",
      "\u001b[1;31mZeroDivisionError\u001b[0m: division by zero"
     ]
    }
   ],
   "source": [
    "#take filename as input\n",
    "fname = input('enter filename')\n",
    "#open a file\n",
    "file = open(fname)\n",
    "print('file is opened')\n",
    "\n",
    "x=10//0\n",
    "print(x)\n",
    "\n",
    "#close the file\n",
    "file.close()\n",
    "print('file is closed')"
   ]
  },
  {
   "cell_type": "code",
   "execution_count": 9,
   "metadata": {},
   "outputs": [
    {
     "name": "stdout",
     "output_type": "stream",
     "text": [
      "enter filenameException Handling.ipynb\n",
      "file is opened\n",
      "error,you can't divide by zero\n",
      "file is closed\n"
     ]
    }
   ],
   "source": [
    "try:    \n",
    "    #take filename as input\n",
    "    fname = input('enter filename')\n",
    "    #open a file\n",
    "    file = open(fname)\n",
    "    print('file is opened')\n",
    "\n",
    "    x=10//0\n",
    "    print(x)\n",
    "    \n",
    "except:\n",
    "    print(\"error,you can't divide by zero\")\n",
    "    \n",
    "finally:\n",
    "    #close the file\n",
    "    file.close()\n",
    "    print('file is closed')"
   ]
  },
  {
   "cell_type": "code",
   "execution_count": 8,
   "metadata": {},
   "outputs": [
    {
     "name": "stdout",
     "output_type": "stream",
     "text": [
      "enter filenameException Handling.ipynb\n",
      "file is opened\n",
      "2\n",
      "file is closed\n"
     ]
    }
   ],
   "source": [
    "try:    \n",
    "    #take filename as input\n",
    "    fname = input('enter filename')\n",
    "    #open a file\n",
    "    file = open(fname)\n",
    "    print('file is opened')\n",
    "\n",
    "    x=10//5     \n",
    "    print(x)\n",
    "    \n",
    "except: #common for all exceptions in try block\n",
    "    print(\"error,you can't divide by zero\")   #exception block doesn't run,as there is no error\n",
    "    \n",
    "finally:\n",
    "    #close the file\n",
    "    file.close()\n",
    "    print('file is closed')"
   ]
  },
  {
   "cell_type": "markdown",
   "metadata": {},
   "source": [
    "#### Multile exception blocks\n",
    "\n",
    "    -Default(common) 'except' block should be the last block,when writting multiple 'except' block."
   ]
  },
  {
   "cell_type": "markdown",
   "metadata": {},
   "source": [
    "    -For a single try block ,we can define multiple 'except' block.\n",
    "    \n",
    "    -defining 'except' block for specific types, followed by default 'except' block only is valid.\n",
    "    \n",
    "    -One `except` block can handle miltiple exception also.In this case,pass exceptions name as a `Tuple`.\n",
    "    \n"
   ]
  },
  {
   "cell_type": "markdown",
   "metadata": {},
   "source": [
    "## Invalid"
   ]
  },
  {
   "cell_type": "code",
   "execution_count": null,
   "metadata": {},
   "outputs": [],
   "source": [
    "try:\n",
    "    #some logic\n",
    "except:\n",
    "    #some logic\n",
    "except FileNotFoundError:\n",
    "    #some logic\n",
    "finally:\n",
    "    #some logic"
   ]
  },
  {
   "cell_type": "markdown",
   "metadata": {},
   "source": [
    "## Valid"
   ]
  },
  {
   "cell_type": "code",
   "execution_count": null,
   "metadata": {},
   "outputs": [],
   "source": [
    "try:\n",
    "    #some logic\n",
    "except FileNotFoundError:\n",
    "    #some logic\n",
    "except:\n",
    "    #some logic\n",
    "finally:\n",
    "    #some logic"
   ]
  },
  {
   "cell_type": "markdown",
   "metadata": {},
   "source": [
    "    -We can define 'try' with combinations 'finally' without 'except' block.\n",
    "    \n",
    "    -We can define 'try' and 'except' block without 'finally' also.\n",
    "    \n",
    "    -We can define 'try' with 'except' and 'finally' blocks also.\n",
    "    \n",
    "#### We can't define 'else' block without 'except' block.\n",
    "#### We can't define multiple 'else' and 'finally' block for a single 'try' block.\n"
   ]
  },
  {
   "cell_type": "markdown",
   "metadata": {},
   "source": [
    "### Valid"
   ]
  },
  {
   "cell_type": "code",
   "execution_count": null,
   "metadata": {},
   "outputs": [],
   "source": [
    "#Valid\n",
    "try:\n",
    "    #some logic\n",
    "except:\n",
    "    #some logic\n",
    "    \n",
    "#valid\n",
    "try:\n",
    "    #some logic\n",
    "finally:\n",
    "    #some logic\n",
    "    \n",
    "#valid\n",
    "try:\n",
    "    #some logic\n",
    "except:\n",
    "    #some logic\n",
    "else:\n",
    "    #some logic\n",
    "finally:\n",
    "    #some logic\n",
    "    \n",
    "#Valid\n",
    "try:\n",
    "    #some logic\n",
    "except:\n",
    "    #some logic\n",
    "else:\n",
    "    #some logic\n",
    "    "
   ]
  },
  {
   "cell_type": "markdown",
   "metadata": {},
   "source": [
    "### Invalid"
   ]
  },
  {
   "cell_type": "code",
   "execution_count": null,
   "metadata": {},
   "outputs": [],
   "source": [
    "#invalid\n",
    "try:\n",
    "    #some logic\n",
    "else:\n",
    "    #some logic\n",
    "finally:\n",
    "    #some logic\n",
    "    \n",
    "#invalid\n",
    "try:\n",
    "    #some logic\n",
    "except:\n",
    "    #some logic\n",
    "else:\n",
    "    #some logic\n",
    "except:\n",
    "    #some logic\n",
    "else:\n",
    "    #some logic\n",
    "finally:\n",
    "    #some logic\n",
    "    \n",
    "#invalid\n",
    "try:\n",
    "    #some logic\n",
    "    try:\n",
    "        #some logic\n",
    "    except:\n",
    "        #some logic\n",
    "except:\n",
    "    #some logic\n",
    "finally:\n",
    "    #some logic\n",
    "    \n",
    "#invalid\n",
    "\n",
    "try:\n",
    "    #some logic\n",
    "except:\n",
    "    #some logic\n",
    "finally:\n",
    "    #some logic"
   ]
  },
  {
   "cell_type": "code",
   "execution_count": 5,
   "metadata": {},
   "outputs": [
    {
     "name": "stdout",
     "output_type": "stream",
     "text": [
      "enter filenameException Handling\n",
      "The given file doesn't found\n",
      "file is closed\n"
     ]
    }
   ],
   "source": [
    "try:    \n",
    "    #take filename as input\n",
    "    fname = input('enter filename')\n",
    "    #open a file\n",
    "    file = open(fname)\n",
    "    print('file is opened')\n",
    "\n",
    "    x=10/5     \n",
    "    print(x)\n",
    "       \n",
    "except FileNotFoundError:  #specific except block\n",
    "    print(\"The given file doesn't found\")\n",
    "    \n",
    "except: #common for all exceptions in try block\n",
    "    print(\"error,you can't divide by zero\")   #exception block doesn't run,as there is no error\n",
    "    \n",
    "finally:\n",
    "    #close the file\n",
    "    file.close()\n",
    "    print('file is closed')"
   ]
  },
  {
   "cell_type": "code",
   "execution_count": 7,
   "metadata": {},
   "outputs": [
    {
     "name": "stdout",
     "output_type": "stream",
     "text": [
      "enter filenameException Handling\n",
      "The given file doesn't found\n"
     ]
    }
   ],
   "source": [
    "try:\n",
    "    file = None\n",
    "    #take filename as input\n",
    "    fname = input('enter filename')\n",
    "    #open a file\n",
    "    file = open(fname)\n",
    "    print('file is opened')\n",
    "\n",
    "    x=10/5     \n",
    "    print(x)\n",
    "       \n",
    "except FileNotFoundError:  #specific except block\n",
    "    print(\"The given file doesn't found\")\n",
    "    \n",
    "except: #common for all exceptions in try block\n",
    "    print(\"error,you can't divide by zero\")   #exception block doesn't run,as there is no error\n",
    "    \n",
    "finally:\n",
    "    if file != None:\n",
    "    #close the file\n",
    "        file.close()\n",
    "        print('file is closed')"
   ]
  },
  {
   "cell_type": "code",
   "execution_count": null,
   "metadata": {},
   "outputs": [],
   "source": []
  }
 ],
 "metadata": {
  "kernelspec": {
   "display_name": "Python 3",
   "language": "python",
   "name": "python3"
  },
  "language_info": {
   "codemirror_mode": {
    "name": "ipython",
    "version": 3
   },
   "file_extension": ".py",
   "mimetype": "text/x-python",
   "name": "python",
   "nbconvert_exporter": "python",
   "pygments_lexer": "ipython3",
   "version": "3.6.5"
  }
 },
 "nbformat": 4,
 "nbformat_minor": 2
}
