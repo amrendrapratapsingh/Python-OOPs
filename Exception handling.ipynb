{
 "cells": [
  {
   "cell_type": "markdown",
   "metadata": {},
   "source": [
    "### Exception Handling\n",
    "\n",
    "    -When creating a software by developers,they may do some mistakes or errors.\n",
    "    \n",
    "    - software error are of three types\n",
    "    1). Syntax Error.\n",
    "    2).Runtime Error.\n",
    "    3).Logical Error.\n",
    "    \n",
    "    - Syntax Errors are identified during programme compilation.\n",
    "    \n",
    "    -Runtime errors are identifies at programme execution.\n",
    "    \n",
    "    -Logical errors are identified by observing the output for a given input.\n",
    "    \n",
    "    -Logical errors are hard to find out,because a system can't show them,and eventually excute the logic you have written ,not the one you required.\n",
    "    \n",
    "    -Runtime errors are also called exceptions.\n",
    "    \n",
    "    -if an exception occurs at runtime,then by default the programme execution is abnormally terminated.to avoid abnormal termination if we want to run some other logic of the programme,then we need to use exception handling."
   ]
  }
 ],
 "metadata": {
  "kernelspec": {
   "display_name": "Python 3",
   "language": "python",
   "name": "python3"
  },
  "language_info": {
   "codemirror_mode": {
    "name": "ipython",
    "version": 3
   },
   "file_extension": ".py",
   "mimetype": "text/x-python",
   "name": "python",
   "nbconvert_exporter": "python",
   "pygments_lexer": "ipython3",
   "version": "3.6.5"
  }
 },
 "nbformat": 4,
 "nbformat_minor": 2
}
