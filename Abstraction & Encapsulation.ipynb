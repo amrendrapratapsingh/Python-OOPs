{
 "cells": [
  {
   "cell_type": "markdown",
   "metadata": {},
   "source": [
    "### Abstration:-\n",
    "\n",
    "    -A class contains Huge amount of data,and functionality.But all the data is not necessary for user and class.\n",
    "    \n",
    "    -Abstration means,hiding unnecessary data from the user and showing only necessary data to the user.\n",
    "    \n",
    "    -Abstraction can be achieved using, Modifiers i.e. private,public and abstract(ABC).\n",
    "    "
   ]
  },
  {
   "cell_type": "markdown",
   "metadata": {},
   "source": [
    "### Encapsulation:-\n",
    "\n",
    "    -It is a process of combining the data and the functionality on the data as a single unit,to restrict others to modify the data.\n",
    "    \n",
    "    -IF u create a class,by making the variables as private and the functionality(Methods) as public then,it's an example of Encapsulation.\n",
    "    \n",
    "    -Encapsulation can be achieved ,using private and public Modifiers."
   ]
  }
 ],
 "metadata": {
  "kernelspec": {
   "display_name": "Python 3",
   "language": "python",
   "name": "python3"
  },
  "language_info": {
   "codemirror_mode": {
    "name": "ipython",
    "version": 3.0
   },
   "file_extension": ".py",
   "mimetype": "text/x-python",
   "name": "python",
   "nbconvert_exporter": "python",
   "pygments_lexer": "ipython3",
   "version": "3.6.5"
  }
 },
 "nbformat": 4,
 "nbformat_minor": 0
}