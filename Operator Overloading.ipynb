{
 "cells": [
  {
   "cell_type": "markdown",
   "metadata": {},
   "source": [
    "### Operator Overloading:-\n",
    "\n",
    "    -In Pyhton ,for every operator there is Magic Method and Python will run that Magic method whenever that operator is used.\n",
    "    \n",
    "    -If you want to use the operators for used-defiend class objects,then define Magic Method of that operator in the class with the required logic.\n",
    "    \n",
    "   #### Operator                                    #### Magic Method\n",
    "   \n",
    "           +                              __add__()\n",
    "           _                              __sub__()\n",
    "           *                              __mul__()\n",
    "           **                             __exp__()\n",
    "           >                              __gt__()\n",
    "           !=                             __ne__()\n",
    "           ==                             __eq__()\n",
    "           <=                             __le__()\n",
    "           "
   ]
  },
  {
   "cell_type": "markdown",
   "metadata": {},
   "source": [
    "#### Create a Pyhton programme for adding two objects of Book class using operator-overloading."
   ]
  },
  {
   "cell_type": "code",
   "execution_count": 1,
   "metadata": {},
   "outputs": [
    {
     "name": "stdout",
     "output_type": "stream",
     "text": [
      "coreAdv pyhton\n",
      "350\n"
     ]
    }
   ],
   "source": [
    "class Book:\n",
    "    def __init__(self,name,pages):\n",
    "        self.name = name\n",
    "        self.pages = pages\n",
    "        \n",
    "    def __add__(self,other):\n",
    "        print(self.name + other.name)\n",
    "        print(self.pages + other.pages)\n",
    "        \n",
    "b1 = Book('core',100)\n",
    "b2 = Book('Adv pyhton',250)\n",
    "b1+b2   #b1.__add(b2)"
   ]
  },
  {
   "cell_type": "markdown",
   "metadata": {},
   "source": [
    "#### Create a class employee and check which employee has more salary by overloading 'greater then' operator"
   ]
  },
  {
   "cell_type": "code",
   "execution_count": 4,
   "metadata": {},
   "outputs": [
    {
     "name": "stdout",
     "output_type": "stream",
     "text": [
      "False\n"
     ]
    }
   ],
   "source": [
    "class Employee:\n",
    "    def __init__(self,emp,salary):\n",
    "        self.emp = emp\n",
    "        self.salary = salary\n",
    "        \n",
    "    def __gt__(self,other):\n",
    "        if self.salary > other.salary:\n",
    "            return True\n",
    "        else:\n",
    "            return False\n",
    "        \n",
    "        \n",
    "e1 = Employee('emp1',10000)\n",
    "e2 = Employee('emp2',20000)\n",
    "print(e1 > e2)\n",
    "        "
   ]
  },
  {
   "cell_type": "markdown",
   "metadata": {},
   "source": [
    "#### Create a Class item and overload 'equal to' operator to check two items are equal or not."
   ]
  },
  {
   "cell_type": "code",
   "execution_count": 7,
   "metadata": {},
   "outputs": [
    {
     "name": "stdout",
     "output_type": "stream",
     "text": [
      "False\n"
     ]
    }
   ],
   "source": [
    "class Item:\n",
    "    def __init__(self,a,b,c):\n",
    "        self.id = a\n",
    "        self.name = b\n",
    "        self.price = c\n",
    "        \n",
    "    def __eq__(self,other):\n",
    "        if self.name == other.name and self.price == other.price:\n",
    "            return True\n",
    "        else:\n",
    "            return False\n",
    "        \n",
    "i1 = Item(111,'p_one',10000)\n",
    "i2 = Item(222,'p_two',20000)\n",
    "print(i1==i2)"
   ]
  },
  {
   "cell_type": "code",
   "execution_count": null,
   "metadata": {},
   "outputs": [],
   "source": []
  }
 ],
 "metadata": {
  "kernelspec": {
   "display_name": "Python 3",
   "language": "python",
   "name": "python3"
  },
  "language_info": {
   "codemirror_mode": {
    "name": "ipython",
    "version": 3
   },
   "file_extension": ".py",
   "mimetype": "text/x-python",
   "name": "python",
   "nbconvert_exporter": "python",
   "pygments_lexer": "ipython3",
   "version": "3.6.5"
  }
 },
 "nbformat": 4,
 "nbformat_minor": 2
}
