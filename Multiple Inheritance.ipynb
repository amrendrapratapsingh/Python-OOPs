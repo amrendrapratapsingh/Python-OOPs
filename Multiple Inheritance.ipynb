{
 "cells": [
  {
   "cell_type": "code",
   "execution_count": 4,
   "metadata": {},
   "outputs": [
    {
     "name": "stdout",
     "output_type": "stream",
     "text": [
      "constructor of B\n",
      "constructor of C\n",
      "constructor of A\n"
     ]
    }
   ],
   "source": [
    "class A:\n",
    "    def __init__(self,x):\n",
    "        self.x = x\n",
    "        print('constructor of A')\n",
    "class B:\n",
    "    def __inti__(self,y):\n",
    "        self.y = y\n",
    "    print('constructor of B')\n",
    "class C(A,B):\n",
    "    def __init__(self,a):\n",
    "        print('constructor of C')\n",
    "        super().__init__(a)\n",
    "    \n",
    "#outside\n",
    "cobj = C(100)"
   ]
  },
  {
   "cell_type": "code",
   "execution_count": 33,
   "metadata": {},
   "outputs": [
    {
     "name": "stdout",
     "output_type": "stream",
     "text": [
      "constructor of B\n",
      "constructor of C\n",
      "constructor of A\n",
      "x value = 100\n"
     ]
    },
    {
     "ename": "AttributeError",
     "evalue": "'C' object has no attribute 'y'",
     "output_type": "error",
     "traceback": [
      "\u001b[1;31m---------------------------------------------------------------------------\u001b[0m",
      "\u001b[1;31mAttributeError\u001b[0m                            Traceback (most recent call last)",
      "\u001b[1;32m<ipython-input-33-8538e4ebf1e2>\u001b[0m in \u001b[0;36m<module>\u001b[1;34m()\u001b[0m\n\u001b[0;32m     17\u001b[0m \u001b[1;31m#outside\u001b[0m\u001b[1;33m\u001b[0m\u001b[1;33m\u001b[0m\u001b[0m\n\u001b[0;32m     18\u001b[0m \u001b[0mcobj\u001b[0m \u001b[1;33m=\u001b[0m \u001b[0mC\u001b[0m\u001b[1;33m(\u001b[0m\u001b[1;36m100\u001b[0m\u001b[1;33m)\u001b[0m\u001b[1;33m\u001b[0m\u001b[0m\n\u001b[1;32m---> 19\u001b[1;33m \u001b[0mcobj\u001b[0m\u001b[1;33m.\u001b[0m\u001b[0mdisp3\u001b[0m\u001b[1;33m(\u001b[0m\u001b[1;33m)\u001b[0m\u001b[1;33m\u001b[0m\u001b[0m\n\u001b[0m",
      "\u001b[1;32m<ipython-input-33-8538e4ebf1e2>\u001b[0m in \u001b[0;36mdisp3\u001b[1;34m(self)\u001b[0m\n\u001b[0;32m     13\u001b[0m     \u001b[1;32mdef\u001b[0m \u001b[0mdisp3\u001b[0m\u001b[1;33m(\u001b[0m\u001b[0mself\u001b[0m\u001b[1;33m)\u001b[0m\u001b[1;33m:\u001b[0m\u001b[1;33m\u001b[0m\u001b[0m\n\u001b[0;32m     14\u001b[0m         \u001b[0mprint\u001b[0m\u001b[1;33m(\u001b[0m\u001b[1;34m'x value ='\u001b[0m\u001b[1;33m,\u001b[0m\u001b[0mself\u001b[0m\u001b[1;33m.\u001b[0m\u001b[0mx\u001b[0m\u001b[1;33m)\u001b[0m\u001b[1;33m\u001b[0m\u001b[0m\n\u001b[1;32m---> 15\u001b[1;33m         \u001b[0mprint\u001b[0m\u001b[1;33m(\u001b[0m\u001b[1;34m'y value ='\u001b[0m\u001b[1;33m,\u001b[0m\u001b[0mself\u001b[0m\u001b[1;33m.\u001b[0m\u001b[0my\u001b[0m\u001b[1;33m)\u001b[0m\u001b[1;33m\u001b[0m\u001b[0m\n\u001b[0m\u001b[0;32m     16\u001b[0m \u001b[1;33m\u001b[0m\u001b[0m\n\u001b[0;32m     17\u001b[0m \u001b[1;31m#outside\u001b[0m\u001b[1;33m\u001b[0m\u001b[1;33m\u001b[0m\u001b[0m\n",
      "\u001b[1;31mAttributeError\u001b[0m: 'C' object has no attribute 'y'"
     ]
    }
   ],
   "source": [
    "class A:\n",
    "    def __init__(self,x):\n",
    "        self.x = x\n",
    "        print('constructor of A')\n",
    "class B:\n",
    "    def __inti__(self,y):\n",
    "        self.y = y\n",
    "    print('constructor of B')\n",
    "class C(A,B):\n",
    "    def __init__(self,a):\n",
    "        print('constructor of C')\n",
    "        super().__init__(a)\n",
    "    def disp3(self):\n",
    "        print('x value =',self.x)\n",
    "        print('y value =',self.y)\n",
    "    \n",
    "#outside\n",
    "cobj = C(100)\n",
    "cobj.disp3()"
   ]
  },
  {
   "cell_type": "code",
   "execution_count": 19,
   "metadata": {},
   "outputs": [
    {
     "name": "stdout",
     "output_type": "stream",
     "text": [
      "constructor of C\n",
      "constructor of A\n"
     ]
    },
    {
     "ename": "TypeError",
     "evalue": "object.__init__() takes no parameters",
     "output_type": "error",
     "traceback": [
      "\u001b[1;31m---------------------------------------------------------------------------\u001b[0m",
      "\u001b[1;31mTypeError\u001b[0m                                 Traceback (most recent call last)",
      "\u001b[1;32m<ipython-input-19-2b3f8501c7bb>\u001b[0m in \u001b[0;36m<module>\u001b[1;34m()\u001b[0m\n\u001b[0;32m     17\u001b[0m \u001b[1;33m\u001b[0m\u001b[0m\n\u001b[0;32m     18\u001b[0m \u001b[1;31m#outside\u001b[0m\u001b[1;33m\u001b[0m\u001b[1;33m\u001b[0m\u001b[0m\n\u001b[1;32m---> 19\u001b[1;33m \u001b[0mcobj\u001b[0m \u001b[1;33m=\u001b[0m \u001b[0mC\u001b[0m\u001b[1;33m(\u001b[0m\u001b[1;36m100\u001b[0m\u001b[1;33m)\u001b[0m\u001b[1;33m\u001b[0m\u001b[0m\n\u001b[0m\u001b[0;32m     20\u001b[0m \u001b[0mcobj\u001b[0m\u001b[1;33m.\u001b[0m\u001b[0mdisp3\u001b[0m\u001b[1;33m(\u001b[0m\u001b[1;33m)\u001b[0m\u001b[1;33m\u001b[0m\u001b[0m\n",
      "\u001b[1;32m<ipython-input-19-2b3f8501c7bb>\u001b[0m in \u001b[0;36m__init__\u001b[1;34m(self, a)\u001b[0m\n\u001b[0;32m     11\u001b[0m     \u001b[1;32mdef\u001b[0m \u001b[0m__init__\u001b[0m\u001b[1;33m(\u001b[0m\u001b[0mself\u001b[0m\u001b[1;33m,\u001b[0m\u001b[0ma\u001b[0m\u001b[1;33m)\u001b[0m\u001b[1;33m:\u001b[0m\u001b[1;33m\u001b[0m\u001b[0m\n\u001b[0;32m     12\u001b[0m         \u001b[0mprint\u001b[0m\u001b[1;33m(\u001b[0m\u001b[1;34m'constructor of C'\u001b[0m\u001b[1;33m)\u001b[0m\u001b[1;33m\u001b[0m\u001b[0m\n\u001b[1;32m---> 13\u001b[1;33m         \u001b[0msuper\u001b[0m\u001b[1;33m(\u001b[0m\u001b[1;33m)\u001b[0m\u001b[1;33m.\u001b[0m\u001b[0m__init__\u001b[0m\u001b[1;33m(\u001b[0m\u001b[0ma\u001b[0m\u001b[1;33m)\u001b[0m\u001b[1;33m\u001b[0m\u001b[0m\n\u001b[0m\u001b[0;32m     14\u001b[0m     \u001b[1;32mdef\u001b[0m \u001b[0mdisp3\u001b[0m\u001b[1;33m(\u001b[0m\u001b[0mself\u001b[0m\u001b[1;33m)\u001b[0m\u001b[1;33m:\u001b[0m\u001b[1;33m\u001b[0m\u001b[0m\n\u001b[0;32m     15\u001b[0m         \u001b[0mprint\u001b[0m\u001b[1;33m(\u001b[0m\u001b[1;34m'x value ='\u001b[0m\u001b[1;33m,\u001b[0m\u001b[0mself\u001b[0m\u001b[1;33m.\u001b[0m\u001b[0mx\u001b[0m\u001b[1;33m)\u001b[0m\u001b[1;33m\u001b[0m\u001b[0m\n",
      "\u001b[1;32m<ipython-input-19-2b3f8501c7bb>\u001b[0m in \u001b[0;36m__init__\u001b[1;34m(self, x)\u001b[0m\n\u001b[0;32m      3\u001b[0m         \u001b[0mself\u001b[0m\u001b[1;33m.\u001b[0m\u001b[0mx\u001b[0m \u001b[1;33m=\u001b[0m \u001b[0mx\u001b[0m\u001b[1;33m\u001b[0m\u001b[0m\n\u001b[0;32m      4\u001b[0m         \u001b[0mprint\u001b[0m\u001b[1;33m(\u001b[0m\u001b[1;34m'constructor of A'\u001b[0m\u001b[1;33m)\u001b[0m\u001b[1;33m\u001b[0m\u001b[0m\n\u001b[1;32m----> 5\u001b[1;33m         \u001b[0msuper\u001b[0m\u001b[1;33m(\u001b[0m\u001b[1;33m)\u001b[0m\u001b[1;33m.\u001b[0m\u001b[0m__init__\u001b[0m\u001b[1;33m(\u001b[0m\u001b[0mx\u001b[0m\u001b[1;33m)\u001b[0m\u001b[1;33m\u001b[0m\u001b[0m\n\u001b[0m\u001b[0;32m      6\u001b[0m \u001b[1;32mclass\u001b[0m \u001b[0mB\u001b[0m\u001b[1;33m:\u001b[0m\u001b[1;33m\u001b[0m\u001b[0m\n\u001b[0;32m      7\u001b[0m     \u001b[1;32mdef\u001b[0m \u001b[0m__inti__\u001b[0m\u001b[1;33m(\u001b[0m\u001b[0mself\u001b[0m\u001b[1;33m,\u001b[0m\u001b[0my\u001b[0m\u001b[1;33m)\u001b[0m\u001b[1;33m:\u001b[0m\u001b[1;33m\u001b[0m\u001b[0m\n",
      "\u001b[1;31mTypeError\u001b[0m: object.__init__() takes no parameters"
     ]
    }
   ],
   "source": [
    "class A:\n",
    "    def __init__(self,x):\n",
    "        self.x = x\n",
    "        print('constructor of A')\n",
    "        super().__init__(x)\n",
    "class B:\n",
    "    def __inti__(self,y):\n",
    "        self.y = y\n",
    "        print('constructor of B')\n",
    "class C(A,B):\n",
    "    def __init__(self,a):\n",
    "        print('constructor of C')\n",
    "        super().__init__(a)\n",
    "    def disp3(self):\n",
    "        print('x value =',self.x)\n",
    "        print('y value =',self.y)\n",
    "    \n",
    "#outside\n",
    "cobj = C(100)\n",
    "cobj.disp3()"
   ]
  },
  {
   "cell_type": "markdown",
   "metadata": {},
   "source": [
    "## Methods"
   ]
  },
  {
   "cell_type": "markdown",
   "metadata": {},
   "source": [
    "#### If the superclasses are containing different Methods,Python calls appropriate Method,or respective method, there is no need to break the hierarchy,explicitely."
   ]
  },
  {
   "cell_type": "code",
   "execution_count": 32,
   "metadata": {},
   "outputs": [
    {
     "name": "stdout",
     "output_type": "stream",
     "text": [
      "m2() of B\n"
     ]
    }
   ],
   "source": [
    "class A:\n",
    "    def m1(self):\n",
    "        print('m1() of A')\n",
    "class B:\n",
    "    def m2(self):\n",
    "        print('m2() of B')\n",
    "class C(A,B):\n",
    "    pass\n",
    "\n",
    "cobj = C()\n",
    "cobj.m2()\n"
   ]
  },
  {
   "cell_type": "code",
   "execution_count": 8,
   "metadata": {},
   "outputs": [
    {
     "name": "stdout",
     "output_type": "stream",
     "text": [
      "m2\n"
     ]
    }
   ],
   "source": [
    "class A:\n",
    "    def m1(self):\n",
    "        print('m1')\n",
    "class B:\n",
    "    def m2(self):\n",
    "        print('m2') #control strops,and don't went to next superclass,as we are not breaking hierarchy with super()\n",
    "class C:\n",
    "    def m2(self):\n",
    "        print('C m2')\n",
    "class D(A,B,C):\n",
    "    pass\n",
    "\n",
    "dobj = D()\n",
    "dobj.m2()"
   ]
  },
  {
   "cell_type": "markdown",
   "metadata": {},
   "source": [
    "#### If the superclasses are containing same Methods,we use super(), keyword to break the Hierarchy,and make control to enter into next superclass"
   ]
  },
  {
   "cell_type": "code",
   "execution_count": 16,
   "metadata": {},
   "outputs": [
    {
     "name": "stdout",
     "output_type": "stream",
     "text": [
      "m2\n",
      "C m2\n"
     ]
    }
   ],
   "source": [
    "class A:\n",
    "    def m1(self):\n",
    "        print('m1')\n",
    "class B:\n",
    "    def m2(self):\n",
    "        print('m2')\n",
    "        super().m2() #to break hierarchy\n",
    "class C:\n",
    "    def m2(self):\n",
    "        print('C m2')\n",
    "class D(A,B,C):\n",
    "    pass\n",
    "\n",
    "dobj = D()\n",
    "dobj.m2()"
   ]
  },
  {
   "cell_type": "code",
   "execution_count": 12,
   "metadata": {},
   "outputs": [
    {
     "name": "stdout",
     "output_type": "stream",
     "text": [
      "m2\n",
      "10\n"
     ]
    }
   ],
   "source": [
    "class A:\n",
    "    z=10\n",
    "    def m1(self):\n",
    "        print('m2')\n",
    "class B:\n",
    "    z=20\n",
    "    def m2(self):\n",
    "        print('m2')\n",
    "class C:\n",
    "    z=30\n",
    "    def m2(self):\n",
    "        print('C m2')\n",
    "class D(A,B,C):\n",
    "    def show(self):\n",
    "        print(self.z)\n",
    "        \n",
    "\n",
    "dobj = D()\n",
    "dobj.m2()\n",
    "dobj.show()"
   ]
  },
  {
   "cell_type": "code",
   "execution_count": 11,
   "metadata": {},
   "outputs": [
    {
     "name": "stdout",
     "output_type": "stream",
     "text": [
      "m2\n",
      "C m2\n",
      "10\n"
     ]
    }
   ],
   "source": [
    "class A:\n",
    "    z=10\n",
    "    def m1(self):\n",
    "        print('A m2')\n",
    "        super().m2()\n",
    "class B:\n",
    "    z=20\n",
    "    def m2(self):\n",
    "        print('m2')\n",
    "        super().m2()\n",
    "class C:\n",
    "    z=30\n",
    "    def m2(self):\n",
    "        print('C m2')\n",
    "class D(A,B,C):\n",
    "    def show(self):\n",
    "        print(self.z)\n",
    "        \n",
    "\n",
    "dobj = D()\n",
    "dobj.m2()\n",
    "dobj.show()"
   ]
  },
  {
   "cell_type": "code",
   "execution_count": 15,
   "metadata": {},
   "outputs": [
    {
     "name": "stdout",
     "output_type": "stream",
     "text": [
      "A m2\n",
      "B m2\n",
      "C m2\n",
      "10\n",
      "20\n",
      "30\n"
     ]
    }
   ],
   "source": [
    "class A:\n",
    "    z=10\n",
    "    def m2(self):\n",
    "        print('A m2')\n",
    "        super().m2() #to break hierarchy\n",
    "class B:\n",
    "    z=20\n",
    "    def m2(self):\n",
    "        print('B m2')\n",
    "        super().m2() #to break hierarchy\n",
    "class C:\n",
    "    z=30\n",
    "    def m2(self):\n",
    "        print('C m2')\n",
    "class D(A,B,C):\n",
    "    def show(self):\n",
    "        print(A.z)\n",
    "        print(B.z)\n",
    "        print(C.z)\n",
    "        \n",
    "\n",
    "dobj = D()\n",
    "dobj.m2()\n",
    "dobj.show()"
   ]
  },
  {
   "cell_type": "code",
   "execution_count": 18,
   "metadata": {},
   "outputs": [
    {
     "name": "stdout",
     "output_type": "stream",
     "text": [
      "A m2\n",
      "A m2\n",
      "B m2\n",
      "C m2\n"
     ]
    }
   ],
   "source": [
    "class A:\n",
    "    def m2(self):\n",
    "        print('A m2')\n",
    "class B:\n",
    "    def m2(self):\n",
    "        print('B m2')\n",
    "class C:\n",
    "    def m2(self):\n",
    "        print('C m2')\n",
    "class D(A,B,C):\n",
    "    def show(self):\n",
    "        self.m2()\n",
    "        b=B() #create object ,to call other superclass with breaking hierarchy\n",
    "        b.m2()\n",
    "        c=C()\n",
    "        c.m2()\n",
    "        \n",
    "\n",
    "dobj = D()\n",
    "dobj.m2()\n",
    "dobj.show()"
   ]
  },
  {
   "cell_type": "markdown",
   "metadata": {},
   "source": [
    "## Constructor"
   ]
  },
  {
   "cell_type": "code",
   "execution_count": 24,
   "metadata": {},
   "outputs": [
    {
     "name": "stdout",
     "output_type": "stream",
     "text": [
      "constructor of C\n"
     ]
    },
    {
     "ename": "TypeError",
     "evalue": "__init__() takes 2 positional arguments but 3 were given",
     "output_type": "error",
     "traceback": [
      "\u001b[1;31m---------------------------------------------------------------------------\u001b[0m",
      "\u001b[1;31mTypeError\u001b[0m                                 Traceback (most recent call last)",
      "\u001b[1;32m<ipython-input-24-7b6775f06e6a>\u001b[0m in \u001b[0;36m<module>\u001b[1;34m()\u001b[0m\n\u001b[0;32m     15\u001b[0m         \u001b[0msuper\u001b[0m\u001b[1;33m(\u001b[0m\u001b[1;33m)\u001b[0m\u001b[1;33m.\u001b[0m\u001b[0m__init__\u001b[0m\u001b[1;33m(\u001b[0m\u001b[1;36m15\u001b[0m\u001b[1;33m,\u001b[0m\u001b[1;36m25\u001b[0m\u001b[1;33m)\u001b[0m\u001b[1;33m\u001b[0m\u001b[0m\n\u001b[0;32m     16\u001b[0m \u001b[1;33m\u001b[0m\u001b[0m\n\u001b[1;32m---> 17\u001b[1;33m \u001b[0mcobj\u001b[0m\u001b[1;33m=\u001b[0m\u001b[0mC\u001b[0m\u001b[1;33m(\u001b[0m\u001b[1;33m)\u001b[0m\u001b[1;33m\u001b[0m\u001b[0m\n\u001b[0m",
      "\u001b[1;32m<ipython-input-24-7b6775f06e6a>\u001b[0m in \u001b[0;36m__init__\u001b[1;34m(self)\u001b[0m\n\u001b[0;32m     13\u001b[0m     \u001b[1;32mdef\u001b[0m \u001b[0m__init__\u001b[0m\u001b[1;33m(\u001b[0m\u001b[0mself\u001b[0m\u001b[1;33m)\u001b[0m\u001b[1;33m:\u001b[0m\u001b[1;33m\u001b[0m\u001b[0m\n\u001b[0;32m     14\u001b[0m         \u001b[0mprint\u001b[0m\u001b[1;33m(\u001b[0m\u001b[1;34m'constructor of C'\u001b[0m\u001b[1;33m)\u001b[0m\u001b[1;33m\u001b[0m\u001b[0m\n\u001b[1;32m---> 15\u001b[1;33m         \u001b[0msuper\u001b[0m\u001b[1;33m(\u001b[0m\u001b[1;33m)\u001b[0m\u001b[1;33m.\u001b[0m\u001b[0m__init__\u001b[0m\u001b[1;33m(\u001b[0m\u001b[1;36m15\u001b[0m\u001b[1;33m,\u001b[0m\u001b[1;36m25\u001b[0m\u001b[1;33m)\u001b[0m\u001b[1;33m\u001b[0m\u001b[0m\n\u001b[0m\u001b[0;32m     16\u001b[0m \u001b[1;33m\u001b[0m\u001b[0m\n\u001b[0;32m     17\u001b[0m \u001b[0mcobj\u001b[0m\u001b[1;33m=\u001b[0m\u001b[0mC\u001b[0m\u001b[1;33m(\u001b[0m\u001b[1;33m)\u001b[0m\u001b[1;33m\u001b[0m\u001b[0m\n",
      "\u001b[1;31mTypeError\u001b[0m: __init__() takes 2 positional arguments but 3 were given"
     ]
    }
   ],
   "source": [
    "class A:\n",
    "    def __init__(self,i1):\n",
    "        self.x=i1\n",
    "        print('constructor of A')\n",
    "        \n",
    "class B:\n",
    "    def __init__(self,i1,i2):\n",
    "        print('constructor of B')\n",
    "        self.m=i1\n",
    "        self.m=i2\n",
    "    \n",
    "class C(A,B):\n",
    "    def __init__(self):\n",
    "        print('constructor of C')\n",
    "        super().__init__(15,25)\n",
    "        \n",
    "cobj=C()"
   ]
  },
  {
   "cell_type": "markdown",
   "metadata": {},
   "source": [
    "   #### In Multiple Inheritance ,when two superclasses are containing ,same Method or Constructor ,then Python always calls first superclass Methods only."
   ]
  },
  {
   "cell_type": "code",
   "execution_count": 30,
   "metadata": {},
   "outputs": [
    {
     "name": "stdout",
     "output_type": "stream",
     "text": [
      "constructor of C\n",
      "constructor of A\n"
     ]
    }
   ],
   "source": [
    "class A:\n",
    "    def __init__(self,j1,j2):\n",
    "        print('constructor of A')\n",
    "        \n",
    "class B:\n",
    "    def __init__(self,i1,i2):\n",
    "        print('constructor of B')\n",
    "        self.m=i1\n",
    "        self.m=i2\n",
    "    \n",
    "class C(A,B):\n",
    "    def __init__(self):\n",
    "        print('constructor of C')\n",
    "        super().__init__(15,25)\n",
    "        \n",
    "cobj=C()"
   ]
  },
  {
   "cell_type": "markdown",
   "metadata": {},
   "source": [
    "#### In Multiple Inheritance, if two superclasses are containing same Method then the control goes to second superclass,only if the first superclass break the Hierarchy,with super() ,keyword"
   ]
  },
  {
   "cell_type": "code",
   "execution_count": 31,
   "metadata": {},
   "outputs": [
    {
     "name": "stdout",
     "output_type": "stream",
     "text": [
      "constructor of C\n",
      "constructor of A\n",
      "constructor of B\n"
     ]
    }
   ],
   "source": [
    "class A:\n",
    "    def __init__(self,j1,j2):\n",
    "        print('constructor of A')\n",
    "        super().__init__(j1,j2)\n",
    "        \n",
    "class B:\n",
    "    def __init__(self,i1,i2):\n",
    "        print('constructor of B')\n",
    "        self.m=i1\n",
    "        self.m=i2\n",
    "    \n",
    "class C(A,B):\n",
    "    def __init__(self):\n",
    "        print('constructor of C')\n",
    "        super().__init__(15,25)\n",
    "\n",
    "#outside of classes\n",
    "cobj=C()"
   ]
  }
 ],
 "metadata": {
  "kernelspec": {
   "display_name": "Python 3",
   "language": "python",
   "name": "python3"
  },
  "language_info": {
   "codemirror_mode": {
    "name": "ipython",
    "version": 3
   },
   "file_extension": ".py",
   "mimetype": "text/x-python",
   "name": "python",
   "nbconvert_exporter": "python",
   "pygments_lexer": "ipython3",
   "version": "3.6.5"
  }
 },
 "nbformat": 4,
 "nbformat_minor": 2
}
