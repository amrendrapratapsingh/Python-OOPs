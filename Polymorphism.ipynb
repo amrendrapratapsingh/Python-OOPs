{
 "cells": [
  {
   "cell_type": "markdown",
   "metadata": {},
   "source": [
    "## Polymorphism\n",
    "#### poly => many\n",
    "#### morphos => forms\n",
    "\n",
    "    1).Polymorphism means acting in may ways.\n",
    "    \n",
    "    2).Polymorphism can be achieved with two conecepts:=>\n",
    "        -Overloading.\n",
    "        -Overriding.\n",
    "        \n",
    "### If you want to execute same functionality for diffrent argument => Overloading\n",
    "\n",
    "### if you want to excute different functionality for same argument => Overriding"
   ]
  }
 ],
 "metadata": {
  "kernelspec": {
   "display_name": "Python 3",
   "language": "python",
   "name": "python3"
  },
  "language_info": {
   "codemirror_mode": {
    "name": "ipython",
    "version": 3
   },
   "file_extension": ".py",
   "mimetype": "text/x-python",
   "name": "python",
   "nbconvert_exporter": "python",
   "pygments_lexer": "ipython3",
   "version": "3.6.5"
  }
 },
 "nbformat": 4,
 "nbformat_minor": 2
}
