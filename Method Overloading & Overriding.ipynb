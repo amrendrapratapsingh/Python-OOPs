{
 "cells": [
  {
   "cell_type": "markdown",
   "metadata": {},
   "source": [
    "## Method Overloading:-\n",
    "\n",
    "    In Python ,a Method can't be overloaded by defining ,or with multiple method occurance.\n",
    "    Method overloading is possible in Python by using \"*args\" parameters in a Method."
   ]
  },
  {
   "cell_type": "code",
   "execution_count": 5,
   "metadata": {},
   "outputs": [
    {
     "name": "stdout",
     "output_type": "stream",
     "text": [
      "40\n",
      "10\n"
     ]
    }
   ],
   "source": [
    "class Sample(object):\n",
    "    def sum(self,*args):\n",
    "        r=0\n",
    "        for r in args:\n",
    "            r += r\n",
    "        return r\n",
    "s= Sample()\n",
    "result= s.sum(10,20)\n",
    "print(result)\n",
    "result2= s.sum(1,2,3,4,5)\n",
    "print(result2)"
   ]
  },
  {
   "cell_type": "markdown",
   "metadata": {},
   "source": [
    "## Method Overriding:-\n",
    "    \n",
    "    In Python ,Method overriding is allowed in same class also in subclass."
   ]
  },
  {
   "cell_type": "code",
   "execution_count": 6,
   "metadata": {},
   "outputs": [
    {
     "name": "stdout",
     "output_type": "stream",
     "text": [
      "Hi\n"
     ]
    }
   ],
   "source": [
    "class A:\n",
    "    def fun1(self,a):\n",
    "        print('Hello')\n",
    "    def fun1(self,x):  #overriding for same class\n",
    "        print('Hello2')\n",
    "        \n",
    "class B(A):\n",
    "    def fun1(self,a): # overriding in sub class\n",
    "        print('Hi')\n",
    "        \n",
    "b=B()\n",
    "b.fun1(20)"
   ]
  },
  {
   "cell_type": "code",
   "execution_count": null,
   "metadata": {},
   "outputs": [],
   "source": []
  }
 ],
 "metadata": {
  "kernelspec": {
   "display_name": "Python 3",
   "language": "python",
   "name": "python3"
  },
  "language_info": {
   "codemirror_mode": {
    "name": "ipython",
    "version": 3
   },
   "file_extension": ".py",
   "mimetype": "text/x-python",
   "name": "python",
   "nbconvert_exporter": "python",
   "pygments_lexer": "ipython3",
   "version": "3.6.5"
  }
 },
 "nbformat": 4,
 "nbformat_minor": 2
}
