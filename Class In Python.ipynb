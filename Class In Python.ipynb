{
 "cells": [
  {
   "cell_type": "markdown",
   "metadata": {},
   "source": [
    "# Class In Python\n",
    "\n",
    "Class is a template for creating similar object instances.\n",
    "\n",
    "     1) Every Programming Language provides some predefined datatypes , for creating variable in a project.\n",
    "     2) In Real-time applications ,we also use need some additional dataTypes along with predefined datatypes in the language,which are not provided by the language ,so Object Oriented Programming language has introduced a concept called Class.\n",
    "\n",
    "     3) Creating a Class means creating an User-defined Data Types.\n",
    "\n",
    "     4) Class is a Collection of variables(data Methods) and Methods(functionality & Behaviour) or Class is a Model for creating  similar object Instances.\n",
    " \n",
    " "
   ]
  },
  {
   "cell_type": "markdown",
   "metadata": {},
   "source": [
    "### Syntax1\n",
    "<table>\n",
    "<tr>\n",
    "    <th>class Classname:</th> \n",
    "</tr>\n",
    "\n",
    "<tr>\n",
    "    <td>variable</td> \n",
    "</tr>\n",
    "\n",
    "<tr>\n",
    "    <td>methods</td> \n",
    "</tr>\n",
    " </table>\n"
   ]
  },
  {
   "cell_type": "markdown",
   "metadata": {},
   "source": [
    "### Syntax2\n",
    "<table>\n",
    "<tr>\n",
    "    <th>class Classname():</th> \n",
    "</tr>\n",
    "\n",
    "<tr>\n",
    "    <td>variable</td> \n",
    "</tr>\n",
    "\n",
    "<tr>\n",
    "    <td>methods</td> \n",
    "</tr>\n",
    " </table>"
   ]
  },
  {
   "cell_type": "markdown",
   "metadata": {},
   "source": [
    "### Syntax3\n",
    "<table>\n",
    "<tr>\n",
    "    <th>class Classname(object):</th> \n",
    "</tr>\n",
    "\n",
    "<tr>\n",
    "    <td>variable</td> \n",
    "</tr>\n",
    "\n",
    "<tr>\n",
    "    <td>methods</td> \n",
    "</tr>\n",
    " </table>"
   ]
  },
  {
   "cell_type": "code",
   "execution_count": null,
   "metadata": {},
   "outputs": [],
   "source": [
    "class Demo:\n",
    "    def display(self):\n",
    "        print('Hello Python')"
   ]
  },
  {
   "cell_type": "code",
   "execution_count": null,
   "metadata": {},
   "outputs": [],
   "source": [
    "class Demo:\n",
    "    def display(self):\n",
    "        name = 'Python'\n",
    "        print('Hello',name)"
   ]
  },
  {
   "cell_type": "markdown",
   "metadata": {},
   "source": [
    "# Object\n",
    "\n",
    "    1) Object is an instance of a Class, contains data(State) and Behaviour(functionality)\n",
    "    2) An Object is an Instance of a Class.\n",
    "    3) We can also say an Object as named memory Location(Heap Memory)"
   ]
  },
  {
   "cell_type": "code",
   "execution_count": 18,
   "metadata": {},
   "outputs": [
    {
     "name": "stdout",
     "output_type": "stream",
     "text": [
      "Message from Display\n"
     ]
    }
   ],
   "source": [
    "class Sample:\n",
    "    def display(self): # Self is a specail word in Python ,which indicates current object\n",
    "        print('Message from Display')\n",
    "s=Sample()\n",
    "s.display()"
   ]
  },
  {
   "cell_type": "code",
   "execution_count": null,
   "metadata": {},
   "outputs": [],
   "source": []
  }
 ],
 "metadata": {
  "kernelspec": {
   "display_name": "Python 3",
   "language": "python",
   "name": "python3"
  },
  "language_info": {
   "codemirror_mode": {
    "name": "ipython",
    "version": 3
   },
   "file_extension": ".py",
   "mimetype": "text/x-python",
   "name": "python",
   "nbconvert_exporter": "python",
   "pygments_lexer": "ipython3",
   "version": "3.6.5"
  }
 },
 "nbformat": 4,
 "nbformat_minor": 2
}
