{
 "cells": [
  {
   "cell_type": "markdown",
   "metadata": {},
   "source": [
    "# Class In Python\n",
    "\n",
    "Class is a template for creating similar object instances.\n",
    "\n",
    " 1) Every Programming Language provides some predefined datatypes , for creating variable in a project.\n",
    " 2) In Real-time applications ,we also use need some additional dataTypes along with predefined datatypes in the language,which     are not provided by the language ,so Object Oriented Programming language has introduced a concept called Class.\n",
    " \n",
    " 3) Creeating a Class means creating an User-defined Data Types.\n",
    " \n",
    " 4) Class is a Collection of variables(data Methods) and Methods(functionality & Behaviour) or Class is a Model for creating similar object Instances.\n",
    " \n",
    " "
   ]
  },
  {
   "cell_type": "markdown",
   "metadata": {},
   "source": [
    "### Syntax1\n",
    "Class classname:\n",
    "    variables\n",
    "    methods"
   ]
  },
  {
   "cell_type": "markdown",
   "metadata": {},
   "source": [
    "### Syntax2\n",
    "Class classname():\n",
    "    variables\n",
    "    methods"
   ]
  },
  {
   "cell_type": "markdown",
   "metadata": {},
   "source": [
    "### Syntax3\n",
    "Class classname(object):\n",
    "    variables\n",
    "    methods"
   ]
  },
  {
   "cell_type": "code",
   "execution_count": null,
   "metadata": {},
   "outputs": [],
   "source": [
    "Class Demo:\n",
    "    def display(self):\n",
    "        print('Hello Python')"
   ]
  },
  {
   "cell_type": "code",
   "execution_count": null,
   "metadata": {},
   "outputs": [],
   "source": [
    "Class Demo:\n",
    "    def display(self):\n",
    "        name = 'Python'\n",
    "        print('Hello',name)"
   ]
  },
  {
   "cell_type": "markdown",
   "metadata": {},
   "source": [
    "# Object\n",
    "\n",
    "    1) Object is an instance of a Class, contains data(State) and Behaviour(functionality)\n",
    "    2) An Object is an Instance of a Class.\n",
    "    3) We can also say an Object as named memory Location(Heap Memory)"
   ]
  },
  {
   "cell_type": "code",
   "execution_count": null,
   "metadata": {},
   "outputs": [],
   "source": [
    "Class Sample:\n",
    "    def display(self): # Self is a specail word in Python ,which indicates current object\n",
    "        print('Message from Display')\n",
    "s=Sample()\n",
    "s.display()"
   ]
  }
 ],
 "metadata": {
  "kernelspec": {
   "display_name": "Python 3",
   "language": "python",
   "name": "python3"
  },
  "language_info": {
   "codemirror_mode": {
    "name": "ipython",
    "version": 3
   },
   "file_extension": ".py",
   "mimetype": "text/x-python",
   "name": "python",
   "nbconvert_exporter": "python",
   "pygments_lexer": "ipython3",
   "version": "3.6.5"
  }
 },
 "nbformat": 4,
 "nbformat_minor": 2
}
